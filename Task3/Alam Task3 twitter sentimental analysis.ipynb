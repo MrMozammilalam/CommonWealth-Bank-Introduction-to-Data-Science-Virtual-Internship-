{
 "cells": [
  {
   "cell_type": "code",
   "execution_count": 4,
   "id": "428313a1",
   "metadata": {},
   "outputs": [
    {
     "name": "stdout",
     "output_type": "stream",
     "text": [
      "Request failed with status code 401\n",
      "Empty DataFrame\n",
      "Columns: []\n",
      "Index: []\n"
     ]
    }
   ],
   "source": [
    "import requests\n",
    "import pandas as pd\n",
    "import time\n",
    "\n",
    "# Define your API credentials\n",
    "API_KEY = \"<ADD_API_KEY>\"\n",
    "API_KEY_SECRET = \"<ADD_API_KEY_SECRET>\"\n",
    "BEARER_TOKEN = \"<ADD_BEARER_TOKEN>\"\n",
    "\n",
    "# Define the Twitter handle and endpoint\n",
    "handle = \"CommBank\"\n",
    "url = f\"https://api.twitter.com/2/tweets/search/recent\"\n",
    "headers = {\"Authorization\": f\"Bearer {BEARER_TOKEN}\"}\n",
    "\n",
    "# Define parameters for the request\n",
    "params = {\n",
    "    \"query\": f\"from:{handle}\",\n",
    "    \"tweet.fields\": \"created_at\",\n",
    "    \"expansions\": \"author_id\",\n",
    "    \"user.fields\": \"created_at\",\n",
    "    \"max_results\": 100  # Maximum results per request\n",
    "}\n",
    "\n",
    "def fetch_tweets(url, headers, params):\n",
    "    all_tweets = []\n",
    "    next_token = None\n",
    "\n",
    "    while len(all_tweets) < 1000:\n",
    "        if next_token:\n",
    "            params[\"next_token\"] = next_token\n",
    "        \n",
    "        response = requests.get(url, headers=headers, params=params)\n",
    "        if response.status_code != 200:\n",
    "            print(f\"Request failed with status code {response.status_code}\")\n",
    "            return all_tweets\n",
    "        \n",
    "        data = response.json()\n",
    "        tweets = data.get('data', [])\n",
    "        if not tweets:\n",
    "            break\n",
    "        \n",
    "        all_tweets.extend(tweets)\n",
    "        next_token = data.get('meta', {}).get('next_token')\n",
    "\n",
    "        if next_token is None:\n",
    "            break\n",
    "        \n",
    "        time.sleep(1)  # Avoid hitting rate limits\n",
    "\n",
    "    return all_tweets\n",
    "\n",
    "# Fetch tweets\n",
    "tweets = fetch_tweets(url, headers, params)\n",
    "\n",
    "# Create a DataFrame to hold the tweets\n",
    "df = pd.DataFrame(tweets)\n",
    "df.to_csv(\"commbank_tweets.csv\", index=False)  # Save the tweets to a CSV file\n",
    "\n",
    "print(df.head())\n"
   ]
  },
  {
   "cell_type": "code",
   "execution_count": 3,
   "id": "6ec5424b",
   "metadata": {},
   "outputs": [
    {
     "data": {
      "text/html": [
       "<div>\n",
       "<style scoped>\n",
       "    .dataframe tbody tr th:only-of-type {\n",
       "        vertical-align: middle;\n",
       "    }\n",
       "\n",
       "    .dataframe tbody tr th {\n",
       "        vertical-align: top;\n",
       "    }\n",
       "\n",
       "    .dataframe thead th {\n",
       "        text-align: right;\n",
       "    }\n",
       "</style>\n",
       "<table border=\"1\" class=\"dataframe\">\n",
       "  <thead>\n",
       "    <tr style=\"text-align: right;\">\n",
       "      <th></th>\n",
       "    </tr>\n",
       "  </thead>\n",
       "  <tbody>\n",
       "  </tbody>\n",
       "</table>\n",
       "</div>"
      ],
      "text/plain": [
       "Empty DataFrame\n",
       "Columns: []\n",
       "Index: []"
      ]
     },
     "execution_count": 3,
     "metadata": {},
     "output_type": "execute_result"
    }
   ],
   "source": [
    "df.head()"
   ]
  },
  {
   "cell_type": "code",
   "execution_count": null,
   "id": "3d570475",
   "metadata": {},
   "outputs": [],
   "source": []
  }
 ],
 "metadata": {
  "kernelspec": {
   "display_name": "Python 3 (ipykernel)",
   "language": "python",
   "name": "python3"
  },
  "language_info": {
   "codemirror_mode": {
    "name": "ipython",
    "version": 3
   },
   "file_extension": ".py",
   "mimetype": "text/x-python",
   "name": "python",
   "nbconvert_exporter": "python",
   "pygments_lexer": "ipython3",
   "version": "3.11.5"
  }
 },
 "nbformat": 4,
 "nbformat_minor": 5
}
